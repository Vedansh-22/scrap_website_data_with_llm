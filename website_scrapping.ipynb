{
 "cells": [
  {
   "cell_type": "code",
   "execution_count": 1,
   "id": "26ec6cd7-4920-4798-8ee6-20afd1f7d35e",
   "metadata": {},
   "outputs": [],
   "source": [
    "# importing all the required libraries \n",
    "import os\n",
    "import requests\n",
    "from dotenv import load_dotenv\n",
    "from bs4 import BeautifulSoup\n",
    "from IPython.display import Markdown, display\n",
    "from openai import OpenAI"
   ]
  },
  {
   "cell_type": "code",
   "execution_count": null,
   "id": "a7d734b3-6e91-4a77-bd7e-d872e3c96649",
   "metadata": {},
   "outputs": [],
   "source": [
    "#load the libraries in dotenv file and validate if we have the valid openAI Api key\n",
    "load_dotenv(override=True)\n",
    "api_key = os.getenv('OPENAI_API_KEY')\n",
    "\n",
    "# Check the key\n",
    "\n",
    "if not api_key:\n",
    "    print(\"No API key was found - please head over to the troubleshooting notebook in this folder to identify & fix!\")\n",
    "elif not api_key.startswith(\"sk-proj-\"):\n",
    "    print(\"An API key was found, but it doesn't start sk-proj-; please check you're using the right key - see troubleshooting notebook\")\n",
    "elif api_key.strip() != api_key:\n",
    "    print(\"An API key was found, but it looks like it might have space or tab characters at the start or end - please remove them - see troubleshooting notebook\")\n",
    "else:\n",
    "    print(\"API key found and looks good so far!\")"
   ]
  },
  {
   "cell_type": "code",
   "execution_count": 3,
   "id": "1fc23e64-7240-4957-8217-e0e9b9979514",
   "metadata": {},
   "outputs": [],
   "source": [
    "#create a instance of OpenAI to be further used in scrapping the website\n",
    "openai = OpenAI()"
   ]
  },
  {
   "cell_type": "code",
   "execution_count": 12,
   "id": "73ba5bac-be90-48e3-b6d0-0e8b91d0d852",
   "metadata": {},
   "outputs": [],
   "source": [
    "headers = {\n",
    " \"User-Agent\": \"Mozilla/5.0 (Windows NT 10.0; Win64; x64) AppleWebKit/537.36 (KHTML, like Gecko) Chrome/117.0.0.0 Safari/537.36\"\n",
    "}\n",
    "\n",
    "class Website:\n",
    "\n",
    "    def __init__(self, url):\n",
    "        \"\"\"\n",
    "        Create this Website object from the given url using the BeautifulSoup library\n",
    "        \"\"\"\n",
    "        self.url = url\n",
    "        response = requests.get(url, headers=headers)\n",
    "        soup = BeautifulSoup(response.content, 'html.parser')\n",
    "        self.title = soup.title.string if soup.title else \"No title found\"\n",
    "        for irrelevant in soup.body([\"script\", \"style\", \"img\", \"input\"]):\n",
    "            irrelevant.decompose()\n",
    "        self.text = soup.body.get_text(separator=\"\\n\", strip=True)\n",
    "    \n",
    "    def scrap_data(self, text, title, user_prompt, system_prompt):\n",
    "        message = [\n",
    "            {\"role\": \"system\", \"content\": system_prompt},\n",
    "            {\"role\": \"user\", \"content\": user_prompt}\n",
    "        ]\n",
    "        response = openai.chat.completions.create(model=\"gpt-4o-mini\", messages = message)\n",
    "        return display(Markdown(response.choices[0].message.content))"
   ]
  },
  {
   "cell_type": "code",
   "execution_count": null,
   "id": "ac69242d-6751-4842-a690-04f044590d96",
   "metadata": {},
   "outputs": [],
   "source": [
    "website_instance = Website(\"https://www.geeksforgeeks.org/how-to-upload-project-on-github-from-jupyter-notebook/\")\n",
    "web_text = website_instance.text\n",
    "web_title = website_instance.title\n",
    "print(web_text)\n",
    "print(web_title)"
   ]
  },
  {
   "cell_type": "code",
   "execution_count": null,
   "id": "f10f4a19-e857-4c37-b318-e6a86157a73f",
   "metadata": {},
   "outputs": [],
   "source": [
    "user_prompt = f\"list out the process of uploading a jupyter project on github in bullet points from the given website text : {website_instance.text}\"\n",
    "system_prompt = \"you are a professional with good sense of humour\"\n",
    "scraped_data = website_instance.scrap_data(web_text, web_title, user_prompt, system_prompt)\n",
    "print(scraped_data)"
   ]
  }
 ],
 "metadata": {
  "kernelspec": {
   "display_name": "Python 3 (ipykernel)",
   "language": "python",
   "name": "python3"
  },
  "language_info": {
   "codemirror_mode": {
    "name": "ipython",
    "version": 3
   },
   "file_extension": ".py",
   "mimetype": "text/x-python",
   "name": "python",
   "nbconvert_exporter": "python",
   "pygments_lexer": "ipython3",
   "version": "3.11.12"
  }
 },
 "nbformat": 4,
 "nbformat_minor": 5
}
